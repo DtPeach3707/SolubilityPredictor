{
  "cells": [
    {
      "cell_type": "markdown",
      "metadata": {
        "id": "w9h4giDUOmcM"
      },
      "source": [
        "# Loading Libraries and Data"
      ]
    },
    {
      "cell_type": "markdown",
      "metadata": {
        "id": "h_2DnMMjCp90"
      },
      "source": [
        "Importing Libraries"
      ]
    },
    {
      "cell_type": "code",
      "execution_count": 56,
      "metadata": {
        "id": "KOuMEfsNCTPa"
      },
      "outputs": [],
      "source": [
        "from tensorflow.keras.layers import Dense, Input, LSTM, Dropout\n",
        "from tensorflow.keras.layers import Reshape, TimeDistributed\n",
        "from tensorflow.keras.models import Model\n",
        "import pandas as pd\n",
        "import numpy as np\n",
        "import tensorflow as tf\n",
        "from sklearn.model_selection import train_test_split\n",
        "import matplotlib.pyplot as plt\n",
        "from tensorflow import random\n",
        "import random as rand"
      ]
    },
    {
      "attachments": {},
      "cell_type": "markdown",
      "metadata": {
        "id": "X4Fh7ipwEFVE"
      },
      "source": [
        "Loading in AqSolDB Data\n",
        "\n",
        "Citation:\n",
        "\n",
        "Sorkun, M.C., Khetan, A. & Er, S. AqSolDB, a curated reference set of aqueous solubility and 2D descriptors for a diverse set of compounds. *Sci Data* **6**, 143 (2019). https://doi.org/10.1038/s41597-019-0151-1"
      ]
    },
    {
      "cell_type": "code",
      "execution_count": 57,
      "metadata": {
        "colab": {
          "base_uri": "https://localhost:8080/",
          "height": 386
        },
        "id": "nbd5YBArEGxZ",
        "outputId": "544d9684-dddf-46b8-c355-7a1627054a04"
      },
      "outputs": [
        {
          "data": {
            "text/html": [
              "\n",
              "  <div id=\"df-7f857e42-441e-4413-9de6-0e89ac4530c8\">\n",
              "    <div class=\"colab-df-container\">\n",
              "      <div>\n",
              "<style scoped>\n",
              "    .dataframe tbody tr th:only-of-type {\n",
              "        vertical-align: middle;\n",
              "    }\n",
              "\n",
              "    .dataframe tbody tr th {\n",
              "        vertical-align: top;\n",
              "    }\n",
              "\n",
              "    .dataframe thead th {\n",
              "        text-align: right;\n",
              "    }\n",
              "</style>\n",
              "<table border=\"1\" class=\"dataframe\">\n",
              "  <thead>\n",
              "    <tr style=\"text-align: right;\">\n",
              "      <th></th>\n",
              "      <th>ID</th>\n",
              "      <th>Name</th>\n",
              "      <th>InChI</th>\n",
              "      <th>InChIKey</th>\n",
              "      <th>SMILES</th>\n",
              "      <th>Solubility</th>\n",
              "      <th>SD</th>\n",
              "      <th>Ocurrences</th>\n",
              "      <th>Group</th>\n",
              "      <th>MolWt</th>\n",
              "      <th>...</th>\n",
              "      <th>NumRotatableBonds</th>\n",
              "      <th>NumValenceElectrons</th>\n",
              "      <th>NumAromaticRings</th>\n",
              "      <th>NumSaturatedRings</th>\n",
              "      <th>NumAliphaticRings</th>\n",
              "      <th>RingCount</th>\n",
              "      <th>TPSA</th>\n",
              "      <th>LabuteASA</th>\n",
              "      <th>BalabanJ</th>\n",
              "      <th>BertzCT</th>\n",
              "    </tr>\n",
              "  </thead>\n",
              "  <tbody>\n",
              "    <tr>\n",
              "      <th>0</th>\n",
              "      <td>A-3</td>\n",
              "      <td>N,N,N-trimethyloctadecan-1-aminium bromide</td>\n",
              "      <td>InChI=1S/C21H46N.BrH/c1-5-6-7-8-9-10-11-12-13-...</td>\n",
              "      <td>SZEMGTQCPRNXEG-UHFFFAOYSA-M</td>\n",
              "      <td>[Br-].CCCCCCCCCCCCCCCCCC[N+](C)(C)C</td>\n",
              "      <td>-3.616127</td>\n",
              "      <td>0.0</td>\n",
              "      <td>1</td>\n",
              "      <td>G1</td>\n",
              "      <td>392.510</td>\n",
              "      <td>...</td>\n",
              "      <td>17.0</td>\n",
              "      <td>142.0</td>\n",
              "      <td>0.0</td>\n",
              "      <td>0.0</td>\n",
              "      <td>0.0</td>\n",
              "      <td>0.0</td>\n",
              "      <td>0.00</td>\n",
              "      <td>158.520601</td>\n",
              "      <td>0.000000e+00</td>\n",
              "      <td>210.377334</td>\n",
              "    </tr>\n",
              "    <tr>\n",
              "      <th>1</th>\n",
              "      <td>A-4</td>\n",
              "      <td>Benzo[cd]indol-2(1H)-one</td>\n",
              "      <td>InChI=1S/C11H7NO/c13-11-8-5-1-3-7-4-2-6-9(12-1...</td>\n",
              "      <td>GPYLCFQEKPUWLD-UHFFFAOYSA-N</td>\n",
              "      <td>O=C1Nc2cccc3cccc1c23</td>\n",
              "      <td>-3.254767</td>\n",
              "      <td>0.0</td>\n",
              "      <td>1</td>\n",
              "      <td>G1</td>\n",
              "      <td>169.183</td>\n",
              "      <td>...</td>\n",
              "      <td>0.0</td>\n",
              "      <td>62.0</td>\n",
              "      <td>2.0</td>\n",
              "      <td>0.0</td>\n",
              "      <td>1.0</td>\n",
              "      <td>3.0</td>\n",
              "      <td>29.10</td>\n",
              "      <td>75.183563</td>\n",
              "      <td>2.582996e+00</td>\n",
              "      <td>511.229248</td>\n",
              "    </tr>\n",
              "    <tr>\n",
              "      <th>2</th>\n",
              "      <td>A-5</td>\n",
              "      <td>4-chlorobenzaldehyde</td>\n",
              "      <td>InChI=1S/C7H5ClO/c8-7-3-1-6(5-9)2-4-7/h1-5H</td>\n",
              "      <td>AVPYQKSLYISFPO-UHFFFAOYSA-N</td>\n",
              "      <td>Clc1ccc(C=O)cc1</td>\n",
              "      <td>-2.177078</td>\n",
              "      <td>0.0</td>\n",
              "      <td>1</td>\n",
              "      <td>G1</td>\n",
              "      <td>140.569</td>\n",
              "      <td>...</td>\n",
              "      <td>1.0</td>\n",
              "      <td>46.0</td>\n",
              "      <td>1.0</td>\n",
              "      <td>0.0</td>\n",
              "      <td>0.0</td>\n",
              "      <td>1.0</td>\n",
              "      <td>17.07</td>\n",
              "      <td>58.261134</td>\n",
              "      <td>3.009782e+00</td>\n",
              "      <td>202.661065</td>\n",
              "    </tr>\n",
              "    <tr>\n",
              "      <th>3</th>\n",
              "      <td>A-8</td>\n",
              "      <td>zinc bis[2-hydroxy-3,5-bis(1-phenylethyl)benzo...</td>\n",
              "      <td>InChI=1S/2C23H22O3.Zn/c2*1-15(17-9-5-3-6-10-17...</td>\n",
              "      <td>XTUPUYCJWKHGSW-UHFFFAOYSA-L</td>\n",
              "      <td>[Zn++].CC(c1ccccc1)c2cc(C(C)c3ccccc3)c(O)c(c2)...</td>\n",
              "      <td>-3.924409</td>\n",
              "      <td>0.0</td>\n",
              "      <td>1</td>\n",
              "      <td>G1</td>\n",
              "      <td>756.226</td>\n",
              "      <td>...</td>\n",
              "      <td>10.0</td>\n",
              "      <td>264.0</td>\n",
              "      <td>6.0</td>\n",
              "      <td>0.0</td>\n",
              "      <td>0.0</td>\n",
              "      <td>6.0</td>\n",
              "      <td>120.72</td>\n",
              "      <td>323.755434</td>\n",
              "      <td>2.322963e-07</td>\n",
              "      <td>1964.648666</td>\n",
              "    </tr>\n",
              "    <tr>\n",
              "      <th>4</th>\n",
              "      <td>A-9</td>\n",
              "      <td>4-({4-[bis(oxiran-2-ylmethyl)amino]phenyl}meth...</td>\n",
              "      <td>InChI=1S/C25H30N2O4/c1-5-20(26(10-22-14-28-22)...</td>\n",
              "      <td>FAUAZXVRLVIARB-UHFFFAOYSA-N</td>\n",
              "      <td>C1OC1CN(CC2CO2)c3ccc(Cc4ccc(cc4)N(CC5CO5)CC6CO...</td>\n",
              "      <td>-4.662065</td>\n",
              "      <td>0.0</td>\n",
              "      <td>1</td>\n",
              "      <td>G1</td>\n",
              "      <td>422.525</td>\n",
              "      <td>...</td>\n",
              "      <td>12.0</td>\n",
              "      <td>164.0</td>\n",
              "      <td>2.0</td>\n",
              "      <td>4.0</td>\n",
              "      <td>4.0</td>\n",
              "      <td>6.0</td>\n",
              "      <td>56.60</td>\n",
              "      <td>183.183268</td>\n",
              "      <td>1.084427e+00</td>\n",
              "      <td>769.899934</td>\n",
              "    </tr>\n",
              "  </tbody>\n",
              "</table>\n",
              "<p>5 rows × 26 columns</p>\n",
              "</div>\n",
              "      <button class=\"colab-df-convert\" onclick=\"convertToInteractive('df-7f857e42-441e-4413-9de6-0e89ac4530c8')\"\n",
              "              title=\"Convert this dataframe to an interactive table.\"\n",
              "              style=\"display:none;\">\n",
              "        \n",
              "  <svg xmlns=\"http://www.w3.org/2000/svg\" height=\"24px\"viewBox=\"0 0 24 24\"\n",
              "       width=\"24px\">\n",
              "    <path d=\"M0 0h24v24H0V0z\" fill=\"none\"/>\n",
              "    <path d=\"M18.56 5.44l.94 2.06.94-2.06 2.06-.94-2.06-.94-.94-2.06-.94 2.06-2.06.94zm-11 1L8.5 8.5l.94-2.06 2.06-.94-2.06-.94L8.5 2.5l-.94 2.06-2.06.94zm10 10l.94 2.06.94-2.06 2.06-.94-2.06-.94-.94-2.06-.94 2.06-2.06.94z\"/><path d=\"M17.41 7.96l-1.37-1.37c-.4-.4-.92-.59-1.43-.59-.52 0-1.04.2-1.43.59L10.3 9.45l-7.72 7.72c-.78.78-.78 2.05 0 2.83L4 21.41c.39.39.9.59 1.41.59.51 0 1.02-.2 1.41-.59l7.78-7.78 2.81-2.81c.8-.78.8-2.07 0-2.86zM5.41 20L4 18.59l7.72-7.72 1.47 1.35L5.41 20z\"/>\n",
              "  </svg>\n",
              "      </button>\n",
              "      \n",
              "  <style>\n",
              "    .colab-df-container {\n",
              "      display:flex;\n",
              "      flex-wrap:wrap;\n",
              "      gap: 12px;\n",
              "    }\n",
              "\n",
              "    .colab-df-convert {\n",
              "      background-color: #E8F0FE;\n",
              "      border: none;\n",
              "      border-radius: 50%;\n",
              "      cursor: pointer;\n",
              "      display: none;\n",
              "      fill: #1967D2;\n",
              "      height: 32px;\n",
              "      padding: 0 0 0 0;\n",
              "      width: 32px;\n",
              "    }\n",
              "\n",
              "    .colab-df-convert:hover {\n",
              "      background-color: #E2EBFA;\n",
              "      box-shadow: 0px 1px 2px rgba(60, 64, 67, 0.3), 0px 1px 3px 1px rgba(60, 64, 67, 0.15);\n",
              "      fill: #174EA6;\n",
              "    }\n",
              "\n",
              "    [theme=dark] .colab-df-convert {\n",
              "      background-color: #3B4455;\n",
              "      fill: #D2E3FC;\n",
              "    }\n",
              "\n",
              "    [theme=dark] .colab-df-convert:hover {\n",
              "      background-color: #434B5C;\n",
              "      box-shadow: 0px 1px 3px 1px rgba(0, 0, 0, 0.15);\n",
              "      filter: drop-shadow(0px 1px 2px rgba(0, 0, 0, 0.3));\n",
              "      fill: #FFFFFF;\n",
              "    }\n",
              "  </style>\n",
              "\n",
              "      <script>\n",
              "        const buttonEl =\n",
              "          document.querySelector('#df-7f857e42-441e-4413-9de6-0e89ac4530c8 button.colab-df-convert');\n",
              "        buttonEl.style.display =\n",
              "          google.colab.kernel.accessAllowed ? 'block' : 'none';\n",
              "\n",
              "        async function convertToInteractive(key) {\n",
              "          const element = document.querySelector('#df-7f857e42-441e-4413-9de6-0e89ac4530c8');\n",
              "          const dataTable =\n",
              "            await google.colab.kernel.invokeFunction('convertToInteractive',\n",
              "                                                     [key], {});\n",
              "          if (!dataTable) return;\n",
              "\n",
              "          const docLinkHtml = 'Like what you see? Visit the ' +\n",
              "            '<a target=\"_blank\" href=https://colab.research.google.com/notebooks/data_table.ipynb>data table notebook</a>'\n",
              "            + ' to learn more about interactive tables.';\n",
              "          element.innerHTML = '';\n",
              "          dataTable['output_type'] = 'display_data';\n",
              "          await google.colab.output.renderOutput(dataTable, element);\n",
              "          const docLink = document.createElement('div');\n",
              "          docLink.innerHTML = docLinkHtml;\n",
              "          element.appendChild(docLink);\n",
              "        }\n",
              "      </script>\n",
              "    </div>\n",
              "  </div>\n",
              "  "
            ],
            "text/plain": [
              "    ID                                               Name  \\\n",
              "0  A-3         N,N,N-trimethyloctadecan-1-aminium bromide   \n",
              "1  A-4                           Benzo[cd]indol-2(1H)-one   \n",
              "2  A-5                               4-chlorobenzaldehyde   \n",
              "3  A-8  zinc bis[2-hydroxy-3,5-bis(1-phenylethyl)benzo...   \n",
              "4  A-9  4-({4-[bis(oxiran-2-ylmethyl)amino]phenyl}meth...   \n",
              "\n",
              "                                               InChI  \\\n",
              "0  InChI=1S/C21H46N.BrH/c1-5-6-7-8-9-10-11-12-13-...   \n",
              "1  InChI=1S/C11H7NO/c13-11-8-5-1-3-7-4-2-6-9(12-1...   \n",
              "2        InChI=1S/C7H5ClO/c8-7-3-1-6(5-9)2-4-7/h1-5H   \n",
              "3  InChI=1S/2C23H22O3.Zn/c2*1-15(17-9-5-3-6-10-17...   \n",
              "4  InChI=1S/C25H30N2O4/c1-5-20(26(10-22-14-28-22)...   \n",
              "\n",
              "                      InChIKey  \\\n",
              "0  SZEMGTQCPRNXEG-UHFFFAOYSA-M   \n",
              "1  GPYLCFQEKPUWLD-UHFFFAOYSA-N   \n",
              "2  AVPYQKSLYISFPO-UHFFFAOYSA-N   \n",
              "3  XTUPUYCJWKHGSW-UHFFFAOYSA-L   \n",
              "4  FAUAZXVRLVIARB-UHFFFAOYSA-N   \n",
              "\n",
              "                                              SMILES  Solubility   SD  \\\n",
              "0                [Br-].CCCCCCCCCCCCCCCCCC[N+](C)(C)C   -3.616127  0.0   \n",
              "1                               O=C1Nc2cccc3cccc1c23   -3.254767  0.0   \n",
              "2                                    Clc1ccc(C=O)cc1   -2.177078  0.0   \n",
              "3  [Zn++].CC(c1ccccc1)c2cc(C(C)c3ccccc3)c(O)c(c2)...   -3.924409  0.0   \n",
              "4  C1OC1CN(CC2CO2)c3ccc(Cc4ccc(cc4)N(CC5CO5)CC6CO...   -4.662065  0.0   \n",
              "\n",
              "   Ocurrences Group    MolWt  ...  NumRotatableBonds  NumValenceElectrons  \\\n",
              "0           1    G1  392.510  ...               17.0                142.0   \n",
              "1           1    G1  169.183  ...                0.0                 62.0   \n",
              "2           1    G1  140.569  ...                1.0                 46.0   \n",
              "3           1    G1  756.226  ...               10.0                264.0   \n",
              "4           1    G1  422.525  ...               12.0                164.0   \n",
              "\n",
              "   NumAromaticRings  NumSaturatedRings  NumAliphaticRings  RingCount    TPSA  \\\n",
              "0               0.0                0.0                0.0        0.0    0.00   \n",
              "1               2.0                0.0                1.0        3.0   29.10   \n",
              "2               1.0                0.0                0.0        1.0   17.07   \n",
              "3               6.0                0.0                0.0        6.0  120.72   \n",
              "4               2.0                4.0                4.0        6.0   56.60   \n",
              "\n",
              "    LabuteASA      BalabanJ      BertzCT  \n",
              "0  158.520601  0.000000e+00   210.377334  \n",
              "1   75.183563  2.582996e+00   511.229248  \n",
              "2   58.261134  3.009782e+00   202.661065  \n",
              "3  323.755434  2.322963e-07  1964.648666  \n",
              "4  183.183268  1.084427e+00   769.899934  \n",
              "\n",
              "[5 rows x 26 columns]"
            ]
          },
          "execution_count": 57,
          "metadata": {},
          "output_type": "execute_result"
        }
      ],
      "source": [
        "solubility_data = pd.read_csv('/content/curated-solubility-dataset.csv')\n",
        "smiles_notation = []\n",
        "solubility = []\n",
        "NRB = []\n",
        "NVE = []\n",
        "NArR = []\n",
        "NSR = []\n",
        "NAlR = []\n",
        "RC = []\n",
        "TPSA = []\n",
        "LASA = []\n",
        "BalabanJ = []\n",
        "BertzCT = []\n",
        "MolWt = []\n",
        "SD = []\n",
        "MLP = []\n",
        "MMR = []\n",
        "HAC = []\n",
        "NHA = []\n",
        "NHD = []\n",
        "for row in solubility_data.iterrows():\n",
        "  smiles_notation.append(row[1]['SMILES'])\n",
        "  solubility.append(float(row[1]['Solubility']))\n",
        "  NRB.append(float(row[1]['NumRotatableBonds']))\n",
        "  NVE.append(float(row[1]['NumValenceElectrons']))\n",
        "  NArR.append(float(row[1]['NumAromaticRings']))\n",
        "  NSR.append(float(row[1]['NumSaturatedRings']))\n",
        "  NAlR.append(float(row[1]['NumAliphaticRings'])) \n",
        "  RC.append(float(row[1]['RingCount']))\n",
        "  TPSA.append(float(row[1]['TPSA']))\n",
        "  LASA.append(float(row[1]['LabuteASA']))\n",
        "  BalabanJ.append(float(row[1]['BalabanJ']))\n",
        "  BertzCT.append(float(row[1]['BertzCT']))\n",
        "  MolWt.append(float(row[1]['MolWt']))\n",
        "  SD.append(float(row[1]['SD']))\n",
        "  MLP.append(float(row[1]['MolLogP']))\n",
        "  MMR.append(float(row[1]['MolMR']))\n",
        "  HAC.append(float(row[1]['HeavyAtomCount']))\n",
        "  NHA.append(float(row[1]['NumHAcceptors']))\n",
        "  NHD.append(float(row[1]['NumHDonors']))\n",
        "\n",
        "solubility_data.head()"
      ]
    },
    {
      "cell_type": "markdown",
      "metadata": {
        "id": "9Df3UMcp1JX1"
      },
      "source": [
        "Ragged Function"
      ]
    },
    {
      "cell_type": "code",
      "execution_count": 58,
      "metadata": {
        "id": "SRPNFcYL1H_b"
      },
      "outputs": [],
      "source": [
        "def stack_ragged(tensors):  # So only middle dimension can have shape None, and for combining ragged tensors\n",
        "    values = tf.concat(tensors, axis=0)\n",
        "    lens = tf.stack([tf.shape(t, out_type=tf.int64)[0] for t in tensors])\n",
        "    return tf.RaggedTensor.from_row_lengths(values, lens)"
      ]
    },
    {
      "cell_type": "markdown",
      "metadata": {
        "id": "AjZiY9noO0eO"
      },
      "source": [
        "# Preprocessing Data"
      ]
    },
    {
      "cell_type": "markdown",
      "metadata": {
        "id": "q9JtAxCfzLyZ"
      },
      "source": [
        "Making list of unique characters"
      ]
    },
    {
      "cell_type": "code",
      "execution_count": 59,
      "metadata": {
        "colab": {
          "base_uri": "https://localhost:8080/"
        },
        "id": "hjoVcW8VzeAX",
        "outputId": "ca80f384-45b4-43de-ea14-a5869b4bebc2"
      },
      "outputs": [
        {
          "name": "stdout",
          "output_type": "stream",
          "text": [
            "['[', 'B', 'r', '-', ']', '.', 'C', 'N', '+', '(', ')', 'O', '=', '1', 'c', '2', '3', 'l', 'Z', 'n', '4', '5', '6', 'F', '\\\\', '/', 'P', 'S', 'a', 'A', 'i', 'M', 'o', 's', '@', 'H', 'W', 'b', '#', '7', '8', 'V', 'g', 'e', 'K', 'T', '9', '%', '0', 'd', 'I', 'R', 'u', 'L', 'G', 'D', 'y', 'Y', 'h', 'f', 'm', 't', ' ']\n",
            "{'[': 0, 'B': 1, 'r': 2, '-': 3, ']': 4, '.': 5, 'C': 6, 'N': 7, '+': 8, '(': 9, ')': 10, 'O': 11, '=': 12, '1': 13, 'c': 14, '2': 15, '3': 16, 'l': 17, 'Z': 18, 'n': 19, '4': 20, '5': 21, '6': 22, 'F': 23, '\\\\': 24, '/': 25, 'P': 26, 'S': 27, 'a': 28, 'A': 29, 'i': 30, 'M': 31, 'o': 32, 's': 33, '@': 34, 'H': 35, 'W': 36, 'b': 37, '#': 38, '7': 39, '8': 40, 'V': 41, 'g': 42, 'e': 43, 'K': 44, 'T': 45, '9': 46, '%': 47, '0': 48, 'd': 49, 'I': 50, 'R': 51, 'u': 52, 'L': 53, 'G': 54, 'D': 55, 'y': 56, 'Y': 57, 'h': 58, 'f': 59, 'm': 60, 't': 61, ' ': 62}\n"
          ]
        }
      ],
      "source": [
        "unique_chars = []\n",
        "uni_char_dict = {}\n",
        "uni_chars = 0\n",
        "for notat in smiles_notation:\n",
        "  for char in notat:\n",
        "    unique = True\n",
        "    for chr in unique_chars:\n",
        "      if chr == char:\n",
        "        unique = False\n",
        "    if unique:\n",
        "      unique_chars.append(char)\n",
        "      uni_char_dict[char] = len(unique_chars) - 1\n",
        "\n",
        "print(unique_chars) \n",
        "print(uni_char_dict)"
      ]
    },
    {
      "cell_type": "markdown",
      "metadata": {
        "id": "snIWkYPmz0Iq"
      },
      "source": [
        "Embedding text data into numbers"
      ]
    },
    {
      "cell_type": "code",
      "execution_count": 60,
      "metadata": {
        "id": "HzlbXzVez8OH"
      },
      "outputs": [],
      "source": [
        "prep_smilenot = []\n",
        "for notat in smiles_notation:\n",
        "  prep_smil = []\n",
        "  for char in notat:\n",
        "    char_lis = [0.0]*len(unique_chars)\n",
        "    char_lis[uni_char_dict[char]] = 1.0\n",
        "    prep_smil.append(char_lis)\n",
        "  prep_smilenot.append(prep_smil)\n",
        "extra_inputs = [NRB, NVE, NArR, NSR, NAlR, RC, TPSA, LASA, BalabanJ, BertzCT, MolWt, SD, MLP, MMR, HAC, NHA, NHD] # All of them\n",
        "prep_eis = []\n",
        "for i in range(len(extra_inputs[0])):\n",
        "  prep_ei = []\n",
        "  for inp in extra_inputs:\n",
        "    if (inp == LASA) or (inp == TPSA) or (inp == BertzCT) or (inp == MolWt) or (inp == NVE) or (inp == HAC) or (inp == MMR): # Scaling down inputs x100\n",
        "      prep_ei.append(inp[i] / 100) \n",
        "    elif inp == BalabanJ: # Scale up for BalabanJ\n",
        "      prep_ei.append(inp[i] * 10)\n",
        "    else:\n",
        "      prep_ei.append(inp[i])\n",
        "  prep_eis.append(prep_ei)\n",
        "\n",
        "psn_train, psn_test, solu_train, solu_test, ei_train, ei_test = train_test_split(prep_smilenot, solubility, prep_eis, test_size=0.2)\n",
        "psn_train, psn_test = stack_ragged(psn_train), stack_ragged(psn_test)\n",
        "solu_train, solu_test = np.array(solu_train), np.array(solu_test)\n",
        "ei_train, ei_test = np.array(ei_train), np.array(ei_test)"
      ]
    },
    {
      "cell_type": "markdown",
      "metadata": {
        "id": "Tu_eX7R_PPQ3"
      },
      "source": [
        "# Defining Model Class"
      ]
    },
    {
      "cell_type": "code",
      "execution_count": 61,
      "metadata": {
        "id": "tGhs6oZNpb7X"
      },
      "outputs": [],
      "source": [
        "class NLPSM():\n",
        "  def __init__(self, unique_chars, extra_inputs=0):\n",
        "\n",
        "    # Defining vars\n",
        "\n",
        "    self.unique_chars = unique_chars\n",
        "    self.extra_inputs = extra_inputs\n",
        "\n",
        "    # Building model\n",
        "\n",
        "    self.model = self.build_model()\n",
        "    self.model.compile(optimizer='adam', loss='mae')\n",
        "\n",
        "  def build_model(self):\n",
        "\n",
        "    # Processing text\n",
        "\n",
        "    inputs = Input(shape=(None, self.unique_chars), ragged=True)\n",
        "    result = TimeDistributed(Dense(500, activation='relu'))(inputs)\n",
        "    result = LSTM(400)(result)\n",
        "    result = Dense(400, activation='relu')(result)\n",
        "    result = Dense(400, activation='relu')(result)\n",
        "\n",
        "    # Processing extra inputs and combining\n",
        "\n",
        "    if self.extra_inputs > 0:\n",
        "      inputs2 = Input(shape=self.extra_inputs)\n",
        "      result2 = Dense(100*self.extra_inputs)(inputs2)\n",
        "      result2 = Dense(400, activation='relu')(result2)\n",
        "      result = tf.concat((result, result2), axis=-1)\n",
        "\n",
        "    # Final Dense layers\n",
        "\n",
        "    result = Dropout(0.3)(result)\n",
        "    result = Dense(400, activation='relu')(result)    \n",
        "    result = Dropout(0.3)(result)\n",
        "\n",
        "    result = Dense(1)(result)\n",
        "\n",
        "    # Defining model\n",
        "\n",
        "    if self.extra_inputs == 0:\n",
        "      model = Model(inputs, result, name='solubility_model_SMILES_only')\n",
        "      print(model.summary())\n",
        "      return model\n",
        "    else: \n",
        "      model = Model([inputs, inputs2], result, name='solubility_model_extra_inputs')\n",
        "      print(model.summary())\n",
        "      return model\n",
        "\n"
      ]
    },
    {
      "cell_type": "markdown",
      "metadata": {
        "id": "ItsUBu0vPdJ6"
      },
      "source": [
        "# Model Instancing, Training, and Analysis"
      ]
    },
    {
      "cell_type": "markdown",
      "metadata": {
        "id": "LhOdzriZMwCZ"
      },
      "source": [
        "Training Parameters"
      ]
    },
    {
      "cell_type": "code",
      "execution_count": 62,
      "metadata": {
        "id": "h01-GSxVL2aW"
      },
      "outputs": [],
      "source": [
        "#@title Training Parameters { run: \"auto\", display-mode: \"form\" }\n",
        "episodes = 100 #@param {type:\"integer\"}\n",
        "batch_size = 100 #@param {type: \"integer\"}\n",
        "verbose = \"False\" #@param [\"False\", \"True\"]"
      ]
    },
    {
      "cell_type": "markdown",
      "metadata": {
        "id": "1p_lwuD5OQ_B"
      },
      "source": [
        "Setting Seed"
      ]
    },
    {
      "cell_type": "code",
      "execution_count": 63,
      "metadata": {
        "id": "iBoTHclkOSFT"
      },
      "outputs": [],
      "source": [
        "seed = 1\n",
        "rand.seed(seed)\n",
        "random.set_seed(seed)"
      ]
    },
    {
      "cell_type": "markdown",
      "metadata": {
        "id": "42-Nu1CUMkpd"
      },
      "source": [
        "Instancing + Training Regular Model"
      ]
    },
    {
      "cell_type": "code",
      "execution_count": 64,
      "metadata": {
        "colab": {
          "base_uri": "https://localhost:8080/"
        },
        "id": "KJSZhhgVMm4e",
        "outputId": "f9ca670d-0a7b-4f9a-e2e7-3e1eb638e9c9"
      },
      "outputs": [
        {
          "name": "stdout",
          "output_type": "stream",
          "text": [
            "Model: \"solubility_model_SMILES_only\"\n",
            "_________________________________________________________________\n",
            " Layer (type)                Output Shape              Param #   \n",
            "=================================================================\n",
            " input_19 (InputLayer)       [(None, None, 63)]        0         \n",
            "                                                                 \n",
            " time_distributed_13 (TimeDi  (None, None, 500)        32000     \n",
            " stributed)                                                      \n",
            "                                                                 \n",
            " lstm_21 (LSTM)              (None, 400)               1441600   \n",
            "                                                                 \n",
            " dense_64 (Dense)            (None, 400)               160400    \n",
            "                                                                 \n",
            " dense_65 (Dense)            (None, 400)               160400    \n",
            "                                                                 \n",
            " dropout_26 (Dropout)        (None, 400)               0         \n",
            "                                                                 \n",
            " dense_66 (Dense)            (None, 400)               160400    \n",
            "                                                                 \n",
            " dropout_27 (Dropout)        (None, 400)               0         \n",
            "                                                                 \n",
            " dense_67 (Dense)            (None, 1)                 401       \n",
            "                                                                 \n",
            "=================================================================\n",
            "Total params: 1,955,201\n",
            "Trainable params: 1,955,201\n",
            "Non-trainable params: 0\n",
            "_________________________________________________________________\n",
            "None\n"
          ]
        },
        {
          "name": "stderr",
          "output_type": "stream",
          "text": [
            "/usr/local/lib/python3.8/dist-packages/tensorflow/python/framework/indexed_slices.py:444: UserWarning: Converting sparse IndexedSlices(IndexedSlices(indices=Tensor(\"gradient_tape/solubility_model_SMILES_only/lstm_21/RaggedToTensor/boolean_mask_1/GatherV2:0\", shape=(None,), dtype=int32), values=Tensor(\"gradient_tape/solubility_model_SMILES_only/lstm_21/RaggedToTensor/boolean_mask/GatherV2:0\", shape=(None, 500), dtype=float32), dense_shape=Tensor(\"gradient_tape/solubility_model_SMILES_only/lstm_21/RaggedToTensor/Shape:0\", shape=(2,), dtype=int32))) to a dense Tensor of unknown shape. This may consume a large amount of memory.\n",
            "  warnings.warn(\n"
          ]
        }
      ],
      "source": [
        "solubility_model = NLPSM(unique_chars=len(unique_chars), extra_inputs = 0)\n",
        "history_base = solubility_model.model.fit(psn_train, solu_train, validation_data = (psn_test, solu_test), epochs=episodes, batch_size=batch_size, verbose=eval(verbose))"
      ]
    },
    {
      "cell_type": "markdown",
      "metadata": {
        "id": "MhH3k3J753Cu"
      },
      "source": [
        "Instancing + Training  Extra Input Model"
      ]
    },
    {
      "cell_type": "code",
      "execution_count": 65,
      "metadata": {
        "colab": {
          "base_uri": "https://localhost:8080/"
        },
        "id": "yjRhi97J54By",
        "outputId": "8f3c7e04-6cbc-4ff6-b708-a82c21b534fb"
      },
      "outputs": [
        {
          "name": "stdout",
          "output_type": "stream",
          "text": [
            "Model: \"solubility_model_extra_inputs\"\n",
            "__________________________________________________________________________________________________\n",
            " Layer (type)                   Output Shape         Param #     Connected to                     \n",
            "==================================================================================================\n",
            " input_20 (InputLayer)          [(None, None, 63)]   0           []                               \n",
            "                                                                                                  \n",
            " time_distributed_14 (TimeDistr  (None, None, 500)   32000       ['input_20[0][0]']               \n",
            " ibuted)                                                                                          \n",
            "                                                                                                  \n",
            " lstm_22 (LSTM)                 (None, 400)          1441600     ['time_distributed_14[0][0]']    \n",
            "                                                                                                  \n",
            " input_21 (InputLayer)          [(None, 17)]         0           []                               \n",
            "                                                                                                  \n",
            " dense_69 (Dense)               (None, 400)          160400      ['lstm_22[0][0]']                \n",
            "                                                                                                  \n",
            " dense_71 (Dense)               (None, 1700)         30600       ['input_21[0][0]']               \n",
            "                                                                                                  \n",
            " dense_70 (Dense)               (None, 400)          160400      ['dense_69[0][0]']               \n",
            "                                                                                                  \n",
            " dense_72 (Dense)               (None, 400)          680400      ['dense_71[0][0]']               \n",
            "                                                                                                  \n",
            " tf.concat_5 (TFOpLambda)       (None, 800)          0           ['dense_70[0][0]',               \n",
            "                                                                  'dense_72[0][0]']               \n",
            "                                                                                                  \n",
            " dropout_28 (Dropout)           (None, 800)          0           ['tf.concat_5[0][0]']            \n",
            "                                                                                                  \n",
            " dense_73 (Dense)               (None, 400)          320400      ['dropout_28[0][0]']             \n",
            "                                                                                                  \n",
            " dropout_29 (Dropout)           (None, 400)          0           ['dense_73[0][0]']               \n",
            "                                                                                                  \n",
            " dense_74 (Dense)               (None, 1)            401         ['dropout_29[0][0]']             \n",
            "                                                                                                  \n",
            "==================================================================================================\n",
            "Total params: 2,826,201\n",
            "Trainable params: 2,826,201\n",
            "Non-trainable params: 0\n",
            "__________________________________________________________________________________________________\n",
            "None\n"
          ]
        },
        {
          "name": "stderr",
          "output_type": "stream",
          "text": [
            "/usr/local/lib/python3.8/dist-packages/tensorflow/python/framework/indexed_slices.py:444: UserWarning: Converting sparse IndexedSlices(IndexedSlices(indices=Tensor(\"gradient_tape/solubility_model_extra_inputs/lstm_22/RaggedToTensor/boolean_mask_1/GatherV2:0\", shape=(None,), dtype=int32), values=Tensor(\"gradient_tape/solubility_model_extra_inputs/lstm_22/RaggedToTensor/boolean_mask/GatherV2:0\", shape=(None, 500), dtype=float32), dense_shape=Tensor(\"gradient_tape/solubility_model_extra_inputs/lstm_22/RaggedToTensor/Shape:0\", shape=(2,), dtype=int32))) to a dense Tensor of unknown shape. This may consume a large amount of memory.\n",
            "  warnings.warn(\n"
          ]
        }
      ],
      "source": [
        "solubility_model = NLPSM(unique_chars=len(unique_chars), extra_inputs = len(extra_inputs))\n",
        "history_ei = solubility_model.model.fit([psn_train, ei_train], solu_train, validation_data = ([psn_test, ei_test], solu_test), epochs=episodes, batch_size=batch_size, verbose=eval(verbose))"
      ]
    },
    {
      "cell_type": "markdown",
      "metadata": {
        "id": "sUhReADJJpZs"
      },
      "source": [
        "Plotting data"
      ]
    },
    {
      "cell_type": "code",
      "execution_count": 66,
      "metadata": {
        "colab": {
          "base_uri": "https://localhost:8080/",
          "height": 1000
        },
        "id": "4wX6gPFnJofW",
        "outputId": "ac8c490e-b806-4a18-f5ce-c08e4df620de"
      },
      "outputs": [
        {
          "data": {
            "image/png": "[encoded data removed]",
            "text/plain": [
              "<Figure size 432x288 with 1 Axes>"
            ]
          },
          "metadata": {
            "needs_background": "light"
          },
          "output_type": "display_data"
        },
        {
          "data": {
            "image/png": "[encoded data removed]",
            "text/plain": [
              "<Figure size 432x288 with 1 Axes>"
            ]
          },
          "metadata": {
            "needs_background": "light"
          },
          "output_type": "display_data"
        },
        {
          "data": {
            "image/png": "[encoded data removed]",
            "text/plain": [
              "<Figure size 432x288 with 1 Axes>"
            ]
          },
          "metadata": {
            "needs_background": "light"
          },
          "output_type": "display_data"
        },
        {
          "data": {
            "image/png": "[encoded data removed]",
            "text/plain": [
              "<Figure size 432x288 with 1 Axes>"
            ]
          },
          "metadata": {
            "needs_background": "light"
          },
          "output_type": "display_data"
        }
      ],
      "source": [
        "epochs = []\n",
        "for i in range(episodes):\n",
        "  epochs.append(i+1)\n",
        "\n",
        "# Training Loss for SMILES only\n",
        "\n",
        "plt.plot(epochs, history_base.history['loss'])\n",
        "plt.title('Training Loss: Only SMILES')\n",
        "plt.xlabel('Episode')\n",
        "plt.ylabel('MAE Loss')\n",
        "plt.ylim(0, 1.5)\n",
        "plt.show()\n",
        "\n",
        "# Testing Loss for SMILES only\n",
        "\n",
        "plt.plot(epochs, history_base.history['val_loss'])\n",
        "plt.title('Testing Loss: Only SMILES')\n",
        "plt.xlabel('Episode')\n",
        "plt.ylabel('MAE Loss')\n",
        "plt.ylim(0, 1.5)\n",
        "plt.show()\n",
        "\n",
        "# Training Loss for Extra Inputs\n",
        "\n",
        "plt.plot(epochs, history_ei.history['loss'])\n",
        "plt.title('Training Loss: Extra numerical inputs')\n",
        "plt.xlabel('Episode')\n",
        "plt.ylabel('MAE Loss')\n",
        "plt.ylim(0, 1.5)\n",
        "plt.show()\n",
        "\n",
        "# Testing Loss for Extra Inputs\n",
        "\n",
        "plt.plot(epochs, history_ei.history['val_loss'])\n",
        "plt.title('Testing Loss: Extra numerical inputs')\n",
        "plt.xlabel('Episode')\n",
        "plt.ylabel('MAE Loss')\n",
        "plt.ylim(0, 1.5)\n",
        "plt.show()"
      ]
    }
  ],
  "metadata": {
    "accelerator": "GPU",
    "colab": {
      "provenance": []
    },
    "gpuClass": "standard",
    "kernelspec": {
      "display_name": "Python 3",
      "name": "python3"
    },
    "language_info": {
      "name": "python"
    }
  },
  "nbformat": 4,
  "nbformat_minor": 0
}
